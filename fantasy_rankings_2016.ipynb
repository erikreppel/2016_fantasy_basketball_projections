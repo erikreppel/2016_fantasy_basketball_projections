{
 "metadata": {
  "name": "",
  "signature": "sha256:688785ecfd65f20e11694b01799a08d1c63c89f638dfd4cd3ea81d5117c9926b"
 },
 "nbformat": 3,
 "nbformat_minor": 0,
 "worksheets": [
  {
   "cells": [
    {
     "cell_type": "code",
     "collapsed": false,
     "input": [
      "import pandas as pd"
     ],
     "language": "python",
     "metadata": {},
     "outputs": [],
     "prompt_number": 1
    },
    {
     "cell_type": "code",
     "collapsed": false,
     "input": [
      "stats_with_percents = pd.read_excel('2016_projections.xlsx', sheetname='2016_projections_with_%')\n",
      "stats = pd.read_excel('2016_projections.xlsx', sheetname='2016_projections')\n",
      "stats_2015 = pd.read_excel('2016_projections.xlsx', sheetname='2015_results')\n",
      "\n",
      "stats['FPPG'] = 0.0\n",
      "stats['TOTALFPTS'] = 0.0\n",
      "stats['FG%'] = 0.0\n",
      "stats['FT%'] = 0.0"
     ],
     "language": "python",
     "metadata": {},
     "outputs": [],
     "prompt_number": 2
    },
    {
     "cell_type": "code",
     "collapsed": false,
     "input": [
      "def normalize_names(df, index, row):\n",
      "    name = row['PLAYER']\n",
      "    name = name.split(',')[0]\n",
      "    name = name.split('*')[0]\n",
      "    df.set_value(index, 'PLAYER', name)\n",
      "\n",
      "for index, row in stats.iterrows():\n",
      "    normalize_names(stats, index, row)\n",
      "    \n",
      "for index, row in stats_with_percents.iterrows():\n",
      "    normalize_names(stats_with_percents, index, row)\n",
      "    \n",
      "for index, row in stats_2015.iterrows():\n",
      "    normalize_names(stats_2015, index, row)"
     ],
     "language": "python",
     "metadata": {},
     "outputs": [],
     "prompt_number": 3
    },
    {
     "cell_type": "code",
     "collapsed": false,
     "input": [
      "def calc_percent_pts(fgm, fgp, fgmade_weight, fgmissed_weight):\n",
      "    pts = fgm * ((fgp * fgmade_weight) - ((1 - fgp) * fgmissed_weight))\n",
      "    return pts\n",
      "\n",
      "print calc_percent_pts(6, 0.8, 1.0, 1.5)\n",
      "\n",
      "category_values = {'PTS': 1.0, 'BLK': 1.5, 'STL': 1.5, 'AST': 1.0, 'REB': 1.0, '3PM': 1.0, 'TO': -1.0}"
     ],
     "language": "python",
     "metadata": {},
     "outputs": [
      {
       "output_type": "stream",
       "stream": "stdout",
       "text": [
        "3.0\n"
       ]
      }
     ],
     "prompt_number": 4
    },
    {
     "cell_type": "code",
     "collapsed": false,
     "input": [
      "def get_percents(index, row):\n",
      "    player = row['PLAYER']\n",
      "    prow = stats_with_percents[stats_with_percents['PLAYER'] == player]\n",
      "    if prow.empty:\n",
      "        stats.set_value(index, 'FG%', 0.45)\n",
      "        stats.set_value(index, 'FT%', 0.75)\n",
      "    else:\n",
      "        stats.set_value(index, 'FG%', prow['FG%'])\n",
      "        stats.set_value(index, 'FT%', prow['FT%'])\n",
      "\n",
      "for index, row in stats.iterrows():\n",
      "    get_percents(index, row)"
     ],
     "language": "python",
     "metadata": {},
     "outputs": [],
     "prompt_number": 5
    },
    {
     "cell_type": "code",
     "collapsed": false,
     "input": [
      "def calc_fpts(index, row):\n",
      "    fpts = 0\n",
      "    for key in row.keys():\n",
      "        if key in category_values:\n",
      "            fpts += (row[key] * float(category_values[key]))\n",
      "    \n",
      "    ft_pts = calc_percent_pts(row['FTM'], row['FT%'], 1.0, 1.5)\n",
      "    fg_pts = calc_percent_pts(row['FGM'], row['FG%'], 1.0, 1.0)\n",
      "    if (row['REB'] >= 10 or row['AST'] >= 10) and row['PTS'] >= 10:\n",
      "        fpts += 4\n",
      "    elif (row['REB'] >= 8 or row['AST'] >= 8) and row['PTS'] >= 8:\n",
      "        fpts += 2\n",
      "    \n",
      "    fpts = fpts + ft_pts + fg_pts\n",
      "    stats.set_value(index, 'FPPG', fpts)\n",
      "    stats.set_value(index, 'TOTALFPTS', row['GP'] * fpts)\n",
      "\n",
      "for index, row in stats.iterrows():\n",
      "    calc_fpts(index, row)"
     ],
     "language": "python",
     "metadata": {},
     "outputs": [],
     "prompt_number": 6
    },
    {
     "cell_type": "code",
     "collapsed": false,
     "input": [
      "stats = stats.sort('FPPG', ascending=False)\n",
      "stats.index = range(1, len(stats) + 1)"
     ],
     "language": "python",
     "metadata": {},
     "outputs": [],
     "prompt_number": 7
    },
    {
     "cell_type": "code",
     "collapsed": false,
     "input": [
      "stats[stats['PLAYER'].isin(['Greg Monroe', 'Reggie Jackson'])]"
     ],
     "language": "python",
     "metadata": {},
     "outputs": [
      {
       "html": [
        "<div style=\"max-height:1000px;max-width:1500px;overflow:auto;\">\n",
        "<table border=\"1\" class=\"dataframe\">\n",
        "  <thead>\n",
        "    <tr style=\"text-align: right;\">\n",
        "      <th></th>\n",
        "      <th>PLAYER</th>\n",
        "      <th>GP</th>\n",
        "      <th>MIN</th>\n",
        "      <th>FGM</th>\n",
        "      <th>FTM</th>\n",
        "      <th>3PM</th>\n",
        "      <th>REB</th>\n",
        "      <th>AST</th>\n",
        "      <th>STL</th>\n",
        "      <th>BLK</th>\n",
        "      <th>TO</th>\n",
        "      <th>PTS</th>\n",
        "      <th>FPPG</th>\n",
        "      <th>TOTALFPTS</th>\n",
        "      <th>FG%</th>\n",
        "      <th>FT%</th>\n",
        "    </tr>\n",
        "  </thead>\n",
        "  <tbody>\n",
        "    <tr>\n",
        "      <th>40</th>\n",
        "      <td> Reggie Jackson</td>\n",
        "      <td> 75</td>\n",
        "      <td> 32.0</td>\n",
        "      <td> 6.5</td>\n",
        "      <td> 3.1</td>\n",
        "      <td> 1.1</td>\n",
        "      <td> 5.0</td>\n",
        "      <td> 7.8</td>\n",
        "      <td> 0.9</td>\n",
        "      <td> 0.5</td>\n",
        "      <td> 3.0</td>\n",
        "      <td> 17.3</td>\n",
        "      <td> 31.4030</td>\n",
        "      <td> 2355.2250</td>\n",
        "      <td> 0.437</td>\n",
        "      <td> 0.848</td>\n",
        "    </tr>\n",
        "    <tr>\n",
        "      <th>66</th>\n",
        "      <td>    Greg Monroe</td>\n",
        "      <td> 77</td>\n",
        "      <td> 32.9</td>\n",
        "      <td> 6.4</td>\n",
        "      <td> 3.4</td>\n",
        "      <td> 0.0</td>\n",
        "      <td> 9.9</td>\n",
        "      <td> 2.2</td>\n",
        "      <td> 1.1</td>\n",
        "      <td> 0.5</td>\n",
        "      <td> 3.3</td>\n",
        "      <td> 13.9</td>\n",
        "      <td> 28.0135</td>\n",
        "      <td> 2157.0395</td>\n",
        "      <td> 0.495</td>\n",
        "      <td> 0.715</td>\n",
        "    </tr>\n",
        "  </tbody>\n",
        "</table>\n",
        "</div>"
       ],
       "metadata": {},
       "output_type": "pyout",
       "prompt_number": 17,
       "text": [
        "            PLAYER  GP   MIN  FGM  FTM  3PM  REB  AST  STL  BLK   TO   PTS  \\\n",
        "40  Reggie Jackson  75  32.0  6.5  3.1  1.1  5.0  7.8  0.9  0.5  3.0  17.3   \n",
        "66     Greg Monroe  77  32.9  6.4  3.4  0.0  9.9  2.2  1.1  0.5  3.3  13.9   \n",
        "\n",
        "       FPPG  TOTALFPTS    FG%    FT%  \n",
        "40  31.4030  2355.2250  0.437  0.848  \n",
        "66  28.0135  2157.0395  0.495  0.715  "
       ]
      }
     ],
     "prompt_number": 17
    },
    {
     "cell_type": "code",
     "collapsed": false,
     "input": [
      "stats.to_csv('2016_projected_ranks_fppg.csv')"
     ],
     "language": "python",
     "metadata": {},
     "outputs": [],
     "prompt_number": 18
    },
    {
     "cell_type": "code",
     "collapsed": false,
     "input": [
      "improved_players = stats_2015.sort('PLAYER')\n",
      "players = []\n",
      "for index, row in improved_players.iterrows():    \n",
      "    \n",
      "    player = row['PLAYER']\n",
      "    tfpts_2015 = stats_2015[stats_2015['PLAYER'] == player]['TOTALFPTS'].to_dict()\n",
      "    fppg_2015 = stats_2015[stats_2015['PLAYER'] == player]['FPPG'].to_dict()\n",
      "    tfpts_2016 = stats[stats['PLAYER'] == player]['TOTALFPTS'].to_dict()\n",
      "    fppg_2016 = stats[stats['PLAYER'] == player]['FPPG'].to_dict()\n",
      "    \n",
      "    player_stats = {\n",
      "                    'player': player,\n",
      "                    2015: [fppg_2015[key] for key in fppg_2015 if fppg_2015[key] is not None else 0] + [tfpts_2015[key] for key in tfpts_2015],\n",
      "                    2016: [fppg_2016[key] for key in fppg_2016] + [tfpts_2016[key] for key in tfpts_2016]\n",
      "                    }\n",
      "    players.append(player_stats)\n",
      "for player in players:\n",
      "    if player[2015] is None:\n",
      "        print 'fuck'"
     ],
     "language": "python",
     "metadata": {},
     "outputs": [
      {
       "ename": "SyntaxError",
       "evalue": "invalid syntax (<ipython-input-9-7bbdfecdd244>, line 13)",
       "output_type": "pyerr",
       "traceback": [
        "\u001b[1;36m  File \u001b[1;32m\"<ipython-input-9-7bbdfecdd244>\"\u001b[1;36m, line \u001b[1;32m13\u001b[0m\n\u001b[1;33m    2015: [fppg_2015[key] for key in fppg_2015 if fppg_2015[key] is not None else 0] + [tfpts_2015[key] for key in tfpts_2015],\u001b[0m\n\u001b[1;37m                                                                                ^\u001b[0m\n\u001b[1;31mSyntaxError\u001b[0m\u001b[1;31m:\u001b[0m invalid syntax\n"
       ]
      }
     ],
     "prompt_number": 9
    },
    {
     "cell_type": "code",
     "collapsed": false,
     "input": [
      "improvements = {}\n",
      "\n",
      "for player in players:\n",
      "    print player\n",
      "    improvements[player['player']] = {'FPPG': player[2016][0] - player[2015][0], 'TOTALFPTS': player[2016][1] - player[2015][1]}\n",
      "print improvements"
     ],
     "language": "python",
     "metadata": {},
     "outputs": []
    }
   ],
   "metadata": {}
  }
 ]
}